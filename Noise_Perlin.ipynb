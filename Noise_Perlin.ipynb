{
  "nbformat": 4,
  "nbformat_minor": 0,
  "metadata": {
    "colab": {
      "name": "Noise_Perlin.ipynb",
      "provenance": [],
      "collapsed_sections": [],
      "authorship_tag": "ABX9TyPX08Cxvo51fYfg/05ZddEN",
      "include_colab_link": true
    },
    "kernelspec": {
      "name": "python3",
      "display_name": "Python 3"
    },
    "language_info": {
      "name": "python"
    }
  },
  "cells": [
    {
      "cell_type": "markdown",
      "metadata": {
        "id": "view-in-github",
        "colab_type": "text"
      },
      "source": [
        "<a href=\"https://colab.research.google.com/github/AREAGAM/glowing-telegram/blob/main/Noise_Perlin.ipynb\" target=\"_parent\"><img src=\"https://colab.research.google.com/assets/colab-badge.svg\" alt=\"Open In Colab\"/></a>"
      ]
    },
    {
      "cell_type": "code",
      "source": [
        "import noise\n",
        "import numpy as np\n",
        "from PIL import Image"
      ],
      "metadata": {
        "id": "6KUiPMnkHgYR"
      },
      "execution_count": 5,
      "outputs": []
    },
    {
      "cell_type": "code",
      "source": [
        "def rgb_norm(world):\n",
        "    world_min = np.min(world)\n",
        "    world_max = np.max(world)\n",
        "    norm = lambda x: (x-world_min/(world_max - world_min))*255\n",
        "    return np.vectorize(norm)\n",
        "\n",
        "def prep_world(world):\n",
        "    norm = rgb_norm(world)\n",
        "    world = norm(world)\n",
        "    return world"
      ],
      "metadata": {
        "id": "WGGueyZXHliu"
      },
      "execution_count": 6,
      "outputs": []
    },
    {
      "cell_type": "code",
      "source": [
        "shape = (1024,1024)\n",
        "scale = 100\n",
        "octaves = 6\n",
        "persistence = 0.5\n",
        "lacunarity = 2.0\n",
        "seed = np.random.randint(0,100)\n",
        "seed = 126\n",
        "\n",
        "world = np.zeros(shape)\n",
        "for i in range(shape[0]):\n",
        "    for j in range(shape[1]):\n",
        "        world[i][j] = noise.pnoise2(i/scale, \n",
        "                                    j/scale, \n",
        "                                    octaves=octaves, \n",
        "                                    persistence=persistence, \n",
        "                                    lacunarity=lacunarity, \n",
        "                                    repeatx=1024, \n",
        "                                    repeaty=1024, \n",
        "                                    base=seed)\n",
        "\n",
        "Image.fromarray(prep_world(world)).show()\n"
      ],
      "metadata": {
        "id": "wYZjcOdBHo96"
      },
      "execution_count": 16,
      "outputs": []
    },
    {
      "cell_type": "code",
      "execution_count": 12,
      "metadata": {
        "id": "KzSQuHwZGHAo"
      },
      "outputs": [],
      "source": [
        ""
      ]
    },
    {
      "cell_type": "code",
      "source": [
        "import noise\n",
        "import numpy as np\n",
        "from PIL import Image\n",
        "\n",
        "shape = (1024,1024)\n",
        "scale = 100.0\n",
        "octaves = 6\n",
        "persistence = 0.5\n",
        "lacunarity = 2.0\n",
        "\n",
        "world = np.zeros(shape)\n",
        "for i in range(shape[0]):\n",
        "    for j in range(shape[1]):\n",
        "        world[i][j] = noise.pnoise2(i/scale, \n",
        "                                    j/scale, \n",
        "                                    octaves=octaves, \n",
        "                                    persistence=persistence, \n",
        "                                    lacunarity=lacunarity, \n",
        "                                    repeatx=1024, \n",
        "                                    repeaty=1024, \n",
        "                                    base=0)\n",
        "        \n",
        "Image.fromarray(world).show()\n",
        "Image.fromarray(world).show()\n"
      ],
      "metadata": {
        "id": "QgrZy6eKLQuE"
      },
      "execution_count": 21,
      "outputs": []
    }
  ]
}